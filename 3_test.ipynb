{
  "nbformat": 4,
  "nbformat_minor": 0,
  "metadata": {
    "colab": {
      "name": "test01.ipynb",
      "version": "0.3.2",
      "provenance": [],
      "collapsed_sections": []
    },
    "kernelspec": {
      "name": "python3",
      "display_name": "Python 3"
    },
    "accelerator": "GPU"
  },
  "cells": [
    {
      "cell_type": "code",
      "metadata": {
        "id": "wa3QdftgXc6T",
        "colab_type": "code",
        "colab": {}
      },
      "source": [
        "!pip install -U -q PyDrive\n",
        "import os\n",
        "from pydrive.auth import GoogleAuth\n",
        "from pydrive.drive import GoogleDrive\n",
        "from google.colab import auth\n",
        "from oauth2client.client import GoogleCredentials"
      ],
      "execution_count": 0,
      "outputs": []
    },
    {
      "cell_type": "code",
      "metadata": {
        "id": "uqXe6VJYXmPV",
        "colab_type": "code",
        "colab": {}
      },
      "source": [
        "auth.authenticate_user()\n",
        "gauth = GoogleAuth()\n",
        "gauth.credentials = GoogleCredentials.get_application_default()\n",
        "drive = GoogleDrive(gauth)\n",
        "#전에함"
      ],
      "execution_count": 0,
      "outputs": []
    },
    {
      "cell_type": "code",
      "metadata": {
        "id": "V7eSr9E8YWtT",
        "colab_type": "code",
        "outputId": "85bb30c0-cff2-49e1-856c-e1b63e63f7c4",
        "colab": {
          "base_uri": "https://localhost:8080/",
          "height": 63
        }
      },
      "source": [
        "!ls models"
      ],
      "execution_count": 0,
      "outputs": [
        {
          "output_type": "stream",
          "text": [
            "ls: cannot access 'models': No such file or directory\n"
          ],
          "name": "stdout"
        }
      ]
    },
    {
      "cell_type": "code",
      "metadata": {
        "id": "1-NNkr5JYfzh",
        "colab_type": "code",
        "outputId": "fb75272d-e16d-4e66-85b8-bf88560bb2de",
        "colab": {
          "base_uri": "https://localhost:8080/",
          "height": 386
        }
      },
      "source": [
        "!ls"
      ],
      "execution_count": 0,
      "outputs": [
        {
          "output_type": "stream",
          "text": [
            "adc.json\t\t\t model15.h5  model33.h5\n",
            "agroup_feat.jpg\t\t\t model16.h5  model34.h5\n",
            "bene.jpg\t\t\t model17.h5  model35.h5\n",
            "celeba-dataset.zip\t\t model18.h5  model36.h5\n",
            "img_align_celeba\t\t model19.h5  model37.h5\n",
            "img_align_celeba.zip\t\t model1.h5   model38.h5\n",
            "iu2.jpg\t\t\t\t model20.h5  model39.h5\n",
            "iu.jpeg\t\t\t\t model21.h5  model3.h5\n",
            "kaggle.json\t\t\t model22.h5  model4.h5\n",
            "list_attr_celeba.csv\t\t model23.h5  model5.h5\n",
            "list_bbox_celeba.csv\t\t model24.h5  model6.h5\n",
            "list_eval_partition.csv\t\t model25.h5  model7.h5\n",
            "list_landmarks_align_celeba.csv  model26.h5  model8.h5\n",
            "mmod_human_face_detector.dat\t model27.h5  model9.h5\n",
            "model0.h5\t\t\t model28.h5  models.pkl\n",
            "model10.h5\t\t\t model29.h5  model.weights.best.hdf5\n",
            "model11.h5\t\t\t model2.h5   sample_data\n",
            "model12.h5\t\t\t model30.h5  train_data.pkl\n",
            "model13.h5\t\t\t model31.h5\n",
            "model14.h5\t\t\t model32.h5\n"
          ],
          "name": "stdout"
        }
      ]
    },
    {
      "cell_type": "code",
      "metadata": {
        "id": "iiyvfWFXg-ia",
        "colab_type": "code",
        "outputId": "70b50c66-c424-4e03-9425-0951d1d66bcf",
        "colab": {
          "resources": {
            "http://localhost:8080/nbextensions/google.colab/files.js": {
              "data": "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",
              "ok": true,
              "headers": [
                [
                  "content-type",
                  "application/javascript"
                ]
              ],
              "status": 200,
              "status_text": ""
            }
          },
          "base_uri": "https://localhost:8080/",
          "height": 747
        }
      },
      "source": [
        "#간혹 업로드 코드를 이용해 이미지파일을 올릴 때 에러가 발생하는 경우가 있다. Colaboratory 왼쪽 상단의 업로드를 통해 테스트해볼 이미지 업로드한다.\n",
        "\n",
        "from google.colab import files\n",
        "\n",
        "files.upload()"
      ],
      "execution_count": 0,
      "outputs": [
        {
          "output_type": "display_data",
          "data": {
            "text/html": [
              "\n",
              "     <input type=\"file\" id=\"files-6d440a3f-727f-4542-8d2b-334affe39642\" name=\"files[]\" multiple disabled />\n",
              "     <output id=\"result-6d440a3f-727f-4542-8d2b-334affe39642\">\n",
              "      Upload widget is only available when the cell has been executed in the\n",
              "      current browser session. Please rerun this cell to enable.\n",
              "      </output>\n",
              "      <script src=\"/nbextensions/google.colab/files.js\"></script> "
            ],
            "text/plain": [
              "<IPython.core.display.HTML object>"
            ]
          },
          "metadata": {
            "tags": []
          }
        },
        {
          "output_type": "error",
          "ename": "MessageError",
          "evalue": "ignored",
          "traceback": [
            "\u001b[0;31m---------------------------------------------------------------------------\u001b[0m",
            "\u001b[0;31mMessageError\u001b[0m                              Traceback (most recent call last)",
            "\u001b[0;32m<ipython-input-28-aac4dfaac8e9>\u001b[0m in \u001b[0;36m<module>\u001b[0;34m()\u001b[0m\n\u001b[1;32m      1\u001b[0m \u001b[0;32mfrom\u001b[0m \u001b[0mgoogle\u001b[0m\u001b[0;34m.\u001b[0m\u001b[0mcolab\u001b[0m \u001b[0;32mimport\u001b[0m \u001b[0mfiles\u001b[0m\u001b[0;34m\u001b[0m\u001b[0;34m\u001b[0m\u001b[0m\n\u001b[1;32m      2\u001b[0m \u001b[0;34m\u001b[0m\u001b[0m\n\u001b[0;32m----> 3\u001b[0;31m \u001b[0mfiles\u001b[0m\u001b[0;34m.\u001b[0m\u001b[0mupload\u001b[0m\u001b[0;34m(\u001b[0m\u001b[0;34m)\u001b[0m\u001b[0;34m\u001b[0m\u001b[0;34m\u001b[0m\u001b[0m\n\u001b[0m",
            "\u001b[0;32m/usr/local/lib/python3.6/dist-packages/google/colab/files.py\u001b[0m in \u001b[0;36mupload\u001b[0;34m()\u001b[0m\n\u001b[1;32m     70\u001b[0m     result = _output.eval_js(\n\u001b[1;32m     71\u001b[0m         'google.colab._files._uploadFilesContinue(\"{output_id}\")'.format(\n\u001b[0;32m---> 72\u001b[0;31m             output_id=output_id))\n\u001b[0m\u001b[1;32m     73\u001b[0m     \u001b[0;32mif\u001b[0m \u001b[0mresult\u001b[0m\u001b[0;34m[\u001b[0m\u001b[0;34m'action'\u001b[0m\u001b[0;34m]\u001b[0m \u001b[0;34m!=\u001b[0m \u001b[0;34m'append'\u001b[0m\u001b[0;34m:\u001b[0m\u001b[0;34m\u001b[0m\u001b[0;34m\u001b[0m\u001b[0m\n\u001b[1;32m     74\u001b[0m       \u001b[0;31m# JS side uses a generator of promises to process all of the files- some\u001b[0m\u001b[0;34m\u001b[0m\u001b[0;34m\u001b[0m\u001b[0;34m\u001b[0m\u001b[0m\n",
            "\u001b[0;32m/usr/local/lib/python3.6/dist-packages/google/colab/output/_js.py\u001b[0m in \u001b[0;36meval_js\u001b[0;34m(script, ignore_result)\u001b[0m\n\u001b[1;32m     37\u001b[0m   \u001b[0;32mif\u001b[0m \u001b[0mignore_result\u001b[0m\u001b[0;34m:\u001b[0m\u001b[0;34m\u001b[0m\u001b[0;34m\u001b[0m\u001b[0m\n\u001b[1;32m     38\u001b[0m     \u001b[0;32mreturn\u001b[0m\u001b[0;34m\u001b[0m\u001b[0;34m\u001b[0m\u001b[0m\n\u001b[0;32m---> 39\u001b[0;31m   \u001b[0;32mreturn\u001b[0m \u001b[0m_message\u001b[0m\u001b[0;34m.\u001b[0m\u001b[0mread_reply_from_input\u001b[0m\u001b[0;34m(\u001b[0m\u001b[0mrequest_id\u001b[0m\u001b[0;34m)\u001b[0m\u001b[0;34m\u001b[0m\u001b[0;34m\u001b[0m\u001b[0m\n\u001b[0m\u001b[1;32m     40\u001b[0m \u001b[0;34m\u001b[0m\u001b[0m\n\u001b[1;32m     41\u001b[0m \u001b[0;34m\u001b[0m\u001b[0m\n",
            "\u001b[0;32m/usr/local/lib/python3.6/dist-packages/google/colab/_message.py\u001b[0m in \u001b[0;36mread_reply_from_input\u001b[0;34m(message_id, timeout_sec)\u001b[0m\n\u001b[1;32m    104\u001b[0m         reply.get('colab_msg_id') == message_id):\n\u001b[1;32m    105\u001b[0m       \u001b[0;32mif\u001b[0m \u001b[0;34m'error'\u001b[0m \u001b[0;32min\u001b[0m \u001b[0mreply\u001b[0m\u001b[0;34m:\u001b[0m\u001b[0;34m\u001b[0m\u001b[0;34m\u001b[0m\u001b[0m\n\u001b[0;32m--> 106\u001b[0;31m         \u001b[0;32mraise\u001b[0m \u001b[0mMessageError\u001b[0m\u001b[0;34m(\u001b[0m\u001b[0mreply\u001b[0m\u001b[0;34m[\u001b[0m\u001b[0;34m'error'\u001b[0m\u001b[0;34m]\u001b[0m\u001b[0;34m)\u001b[0m\u001b[0;34m\u001b[0m\u001b[0;34m\u001b[0m\u001b[0m\n\u001b[0m\u001b[1;32m    107\u001b[0m       \u001b[0;32mreturn\u001b[0m \u001b[0mreply\u001b[0m\u001b[0;34m.\u001b[0m\u001b[0mget\u001b[0m\u001b[0;34m(\u001b[0m\u001b[0;34m'data'\u001b[0m\u001b[0;34m,\u001b[0m \u001b[0;32mNone\u001b[0m\u001b[0;34m)\u001b[0m\u001b[0;34m\u001b[0m\u001b[0;34m\u001b[0m\u001b[0m\n\u001b[1;32m    108\u001b[0m \u001b[0;34m\u001b[0m\u001b[0m\n",
            "\u001b[0;31mMessageError\u001b[0m: RangeError: Maximum call stack size exceeded."
          ]
        }
      ]
    },
    {
      "cell_type": "code",
      "metadata": {
        "id": "LuwaRI-YhI4M",
        "colab_type": "code",
        "outputId": "2d0b5f8b-c191-4cf3-a662-2c2a1bc6d7b7",
        "colab": {
          "base_uri": "https://localhost:8080/",
          "height": 63
        }
      },
      "source": [
        "#필요한 라이브러리 추가 다운로드\n",
        "!pip install cmake"
      ],
      "execution_count": 0,
      "outputs": [
        {
          "output_type": "stream",
          "text": [
            "Requirement already satisfied: cmake in /usr/local/lib/python3.6/dist-packages (3.12.0)\n"
          ],
          "name": "stdout"
        }
      ]
    },
    {
      "cell_type": "code",
      "metadata": {
        "id": "O7817RrxhJmg",
        "colab_type": "code",
        "outputId": "f128c52b-83b2-4e55-8eda-9a04aa4f81e6",
        "colab": {
          "base_uri": "https://localhost:8080/",
          "height": 63
        }
      },
      "source": [
        "!pip install dlib"
      ],
      "execution_count": 0,
      "outputs": [
        {
          "output_type": "stream",
          "text": [
            "Requirement already satisfied: dlib in /usr/local/lib/python3.6/dist-packages (19.16.0)\n"
          ],
          "name": "stdout"
        }
      ]
    },
    {
      "cell_type": "code",
      "metadata": {
        "id": "A_AgwMRKhLxG",
        "colab_type": "code",
        "outputId": "cfddadb8-6605-4a2f-aff3-fbada9b1f2fa",
        "colab": {
          "base_uri": "https://localhost:8080/",
          "height": 164
        }
      },
      "source": [
        "#mmod_human_face_detector.dat 업로드. 만약 에러 발생할 경우 Colaboratory 왼쪽 상단의 업로드를 통해 업로드.\n",
        "files.upload()"
      ],
      "execution_count": 0,
      "outputs": [
        {
          "output_type": "error",
          "ename": "NameError",
          "evalue": "ignored",
          "traceback": [
            "\u001b[0;31m---------------------------------------------------------------------------\u001b[0m",
            "\u001b[0;31mNameError\u001b[0m                                 Traceback (most recent call last)",
            "\u001b[0;32m<ipython-input-36-63b259460c61>\u001b[0m in \u001b[0;36m<module>\u001b[0;34m()\u001b[0m\n\u001b[0;32m----> 1\u001b[0;31m \u001b[0mfiles\u001b[0m\u001b[0;34m.\u001b[0m\u001b[0mupload\u001b[0m\u001b[0;34m(\u001b[0m\u001b[0;34m)\u001b[0m\u001b[0;34m\u001b[0m\u001b[0;34m\u001b[0m\u001b[0m\n\u001b[0m",
            "\u001b[0;31mNameError\u001b[0m: name 'files' is not defined"
          ]
        }
      ]
    },
    {
      "cell_type": "code",
      "metadata": {
        "id": "-U70SqdGhOe7",
        "colab_type": "code",
        "colab": {}
      },
      "source": [
        "#방금 추가 설치한 dlib으로 쓸 수 있는 mmod_human_face_detector.dat로 얼굴인식을 한다. (이미 학습되어있는 얼굴 검출기)\n",
        "import sys\n",
        "import os\n",
        "import dlib\n",
        "import matplotlib.pyplot as plt\n",
        "import numpy as np\n",
        "import cv2\n",
        "\n",
        "def getFaceImages(img):\n",
        "  faces=[]\n",
        "  cnn_face_detector = dlib.cnn_face_detection_model_v1('mmod_human_face_detector.dat')\n",
        "  dets = cnn_face_detector(img, 1)\n",
        "  image=np.copy(img)\n",
        "  for k, d in enumerate(dets):\n",
        "    minx=d.rect.left()-20 \n",
        "    maxx=d.rect.right()+20 \n",
        "    miny=d.rect.top()-20 \n",
        "    maxy=d.rect.bottom()+20 \n",
        "    cv2.rectangle(image, (minx, miny), (maxx, maxy), (0, 255, 0), 2)\n",
        "    crop_img = img[ miny:maxy,minx:maxx]\n",
        "    faces.append(crop_img)\n",
        "  \n",
        "  plt.imshow(image)\n",
        "  plt.xticks([]), plt.yticks([])\n",
        "  plt.show() \n",
        "  \n",
        "  for i in range(len(dets)):\n",
        "    plt.imshow(faces[i])\n",
        "    plt.xticks([]), plt.yticks([])\n",
        "    plt.show()\n",
        "    \n",
        "  \n",
        "  return faces,dets"
      ],
      "execution_count": 0,
      "outputs": []
    },
    {
      "cell_type": "code",
      "metadata": {
        "id": "HLEBk5nDiDaR",
        "colab_type": "code",
        "colab": {}
      },
      "source": [
        "#학습한 가중치를 카테고리별로 나눈다. Gender, Expression, Age Group, Wearing, Hair, Other로 큰 카테고리를 만들고 해당 속성들을 할당한다. \n",
        "#Input으로 들어온 영상에 해당되는 특징이 있으면 각 카테고리별로 리스트를 만들어서 넣는다.\n",
        "#print로 preds값을 출력하면 1, 0 각각의 비율을 볼 수 있다. \n",
        "\n",
        "import cv2\n",
        "import numpy as np\n",
        "from keras.models import load_model\n",
        "\n",
        "def GetFeatures(faces):\n",
        "  new_img=[]\n",
        "  for i in range(len(faces)):\n",
        "    faces[i]=cv2.resize(faces[i], (64,64))\n",
        "     \n",
        "  \n",
        "  \n",
        "  faces=np.asarray(faces)\n",
        "  faces=faces/255\n",
        "  \n",
        "  feat_dict={}\n",
        "  \n",
        "  model = load_model('model20.h5')#male?\n",
        "  preds=model.predict(faces)\n",
        "  gen_list=[]\n",
        "  for i in range(faces.shape[0]):\n",
        "    if preds[i][0] >preds[i][1]:\n",
        "      gen_list.append('Female')\n",
        "    else:\n",
        "      gen_list.append('Male')\n",
        "  \n",
        "  feat_dict['Gender']=gen_list\n",
        "\n",
        " ##############################################\n",
        "  \n",
        "  model=load_model('model31.h5')#Smiling?\n",
        "  preds0=model.predict(faces)\n",
        "  \n",
        "  model=load_model('model21.h5')#Mouth_Slightly_Open?\n",
        "  preds1=model.predict(faces)\n",
        "#   print(preds1)\n",
        "      \n",
        "  \n",
        "  exp_list=[]\n",
        "  for i in range(faces.shape[0]):\n",
        "    if preds0[i][1]>preds0[i][0]:\n",
        "      exp_list.append('Smiling')\n",
        "    elif preds1[i][1]>preds1[i][0]:\n",
        "      exp_list.append('Mouth Slightly Open')\n",
        "    else:\n",
        "      exp_list.append('None')\n",
        "    \n",
        "      \n",
        "  feat_dict['Expression']=exp_list\n",
        "  \n",
        " ##############################################\n",
        "  \n",
        "  model=load_model('model39.h5')#Young?\n",
        "  preds0=model.predict(faces)\n",
        "  \n",
        "  age_list=[]\n",
        "  for i in range(faces.shape[0]):\n",
        "    if preds0[i][1]>preds0[i][0]:\n",
        "      age_list.append('Young')\n",
        "    else:\n",
        "      age_list.append('Not Young')\n",
        "    \n",
        "      \n",
        "  feat_dict['Age Group']=age_list\n",
        "  \n",
        "  ##############################################\n",
        "  \n",
        "  model=load_model('model8.h5')#Black_Hair?\n",
        "  preds0=model.predict(faces)\n",
        "  \n",
        "  model=load_model('model11.h5')#Brown_Hair?\n",
        "  preds1=model.predict(faces)\n",
        "  \n",
        "  model=load_model('model9.h5')#Blond_Hair?\n",
        "  preds2=model.predict(faces)\n",
        "      \n",
        "  \n",
        "  \n",
        "  model=load_model('model17.h5')#Gray_Hair?\n",
        "  preds3=model.predict(faces)\n",
        "  \n",
        "  model=load_model('model4.h5')#Bald?\n",
        "  preds4=model.predict(faces)\n",
        "  \n",
        "  hair_list=[]\n",
        "  for i in range(faces.shape[0]):\n",
        "    h=[]\n",
        "    if preds0[i][1]>preds0[i][0]:\n",
        "      h.append('Black Hair')\n",
        "    if preds1[i][1]>preds1[i][0]:\n",
        "      h.append('Brown Hair')\n",
        "    if preds2[i][1]>preds2[i][0]:\n",
        "      h.append('Blond Hair')\n",
        "    if preds3[i][1]>preds3[i][0]:\n",
        "      h.append('Gray_Hair')\n",
        "    if preds4[i][1]>preds4[i][0]:\n",
        "      h.append('Bald')\n",
        "    hair_list.append(h)\n",
        "    \n",
        "      \n",
        "  feat_dict['Hair']=hair_list\n",
        "  \n",
        "   ##############################################\n",
        "  \n",
        "  model=load_model('model15.h5')#Eyeglasses?\n",
        "  preds0=model.predict(faces)\n",
        "  \n",
        "  model=load_model('model35.h5')#Wearing_Hat?\n",
        "  preds1=model.predict(faces)\n",
        "  \n",
        "  model=load_model('model36.h5')#Wearing_Lipstick?\n",
        "  preds2=model.predict(faces)\n",
        "      \n",
        "  \n",
        "  \n",
        "  model=load_model('model38.h5')#Wearing_Necktie?\n",
        "  preds3=model.predict(faces)\n",
        " \n",
        "  \n",
        "  wear_list=[]\n",
        "  for i in range(faces.shape[0]):\n",
        "    w=[]\n",
        "    if preds0[i][1]>preds0[i][0]:\n",
        "      w.append('Eyeglasses')\n",
        "    if preds1[i][1]>preds1[i][0]:\n",
        "      w.append('Hat')\n",
        "    if preds2[i][1]>preds2[i][0] and feat_dict['Gender'][i]==\"Female\":\n",
        "      w.append('Lipstick')\n",
        "    if preds3[i][1]>preds3[i][0]:\n",
        "      w.append('Necktie')\n",
        "    \n",
        "    wear_list.append(w)\n",
        "    \n",
        "      \n",
        "  feat_dict['Wearing']=wear_list\n",
        "  \n",
        "  ##############################################\n",
        "  \n",
        "  model=load_model('model0.h5')#_5_O_Clock_Shadow?\n",
        "  preds0=model.predict(faces)\n",
        "  \n",
        "  model=load_model('model5.h5')#Bangs?\n",
        "  preds1=model.predict(faces)\n",
        "  \n",
        "  model=load_model('model18.h5')#Heavy_Makeup?\n",
        "  preds2=model.predict(faces)\n",
        "      \n",
        "  model=load_model('model22.h5')#Mustache?\n",
        "  preds3=model.predict(faces)\n",
        "  \n",
        "  model=load_model('model24.h5')#No_Beard?\n",
        "  preds4=model.predict(faces)\n",
        "  \n",
        "  model=load_model('model26.h5')#Pale_Skin?\n",
        "  preds5=model.predict(faces)\n",
        "  \n",
        "  model=load_model('model29.h5')#Rosy_Cheeks?\n",
        "  preds6=model.predict(faces)\n",
        "  \n",
        "  model=load_model('model30.h5')#Sideburns?\n",
        "  preds7=model.predict(faces)\n",
        "  \n",
        "  other_list=[]\n",
        "  for i in range(faces.shape[0]):\n",
        "    o=[]\n",
        "    if preds0[i][1]>preds0[i][0] and feat_dict['Gender'][i]==\"Male\":\n",
        "      o.append('5 O Clock Shadow')\n",
        "    if preds1[i][1]>preds1[i][0]:\n",
        "      o.append('Bangs')\n",
        "    if preds2[i][1]>preds2[i][0] and feat_dict['Gender'][i]==\"Female\":\n",
        "      o.append('Heavy_Makeup')\n",
        "    if preds3[i][1]>preds3[i][0] and feat_dict['Gender'][i]==\"Male\":\n",
        "      o.append('Mustache')\n",
        "    if preds4[i][1]>preds4[i][0] and feat_dict['Gender'][i]==\"Male\":\n",
        "      o.append('No Beard')\n",
        "    if preds5[i][1]>preds5[i][0]:\n",
        "      o.append('Pale Skin')\n",
        "    if preds6[i][1]>preds6[i][0]:\n",
        "      o.append('Rosy Cheeks')\n",
        "    if preds7[i][1]>preds7[i][0] and feat_dict['Gender'][i]==\"Male\":\n",
        "      o.append('Sideburns')\n",
        "         \n",
        "    other_list.append(o)\n",
        "    \n",
        "      \n",
        "  feat_dict['Other']=other_list\n",
        "  \n",
        "    \n",
        "  del model\n",
        " \n",
        "  return feat_dict"
      ],
      "execution_count": 0,
      "outputs": []
    },
    {
      "cell_type": "code",
      "metadata": {
        "id": "J8HFgyYRiXgu",
        "colab_type": "code",
        "outputId": "1aea0a7c-f36b-498c-94e5-ed902158f04f",
        "colab": {
          "base_uri": "https://localhost:8080/",
          "height": 493
        }
      },
      "source": [
        "img=dlib.load_rgb_image(\"female.jpg\")\n",
        "face,det=getFaceImages(img)"
      ],
      "execution_count": 0,
      "outputs": [
        {
          "output_type": "display_data",
          "data": {
            "image/png": "[encoded data removed]",
            "text/plain": [
              "<Figure size 432x288 with 1 Axes>"
            ]
          },
          "metadata": {
            "tags": []
          }
        },
        {
          "output_type": "display_data",
          "data": {
            "image/png": "[encoded data removed]",
            "text/plain": [
              "<Figure size 432x288 with 1 Axes>"
            ]
          },
          "metadata": {
            "tags": []
          }
        }
      ]
    },
    {
      "cell_type": "code",
      "metadata": {
        "id": "rDTRANWjicwi",
        "colab_type": "code",
        "outputId": "beb25022-8a74-48f6-a5d7-7d2eeb9b0693",
        "colab": {
          "base_uri": "https://localhost:8080/",
          "height": 34
        }
      },
      "source": [
        "face[0].shape"
      ],
      "execution_count": 0,
      "outputs": [
        {
          "output_type": "execute_result",
          "data": {
            "text/plain": [
              "(121, 121, 3)"
            ]
          },
          "metadata": {
            "tags": []
          },
          "execution_count": 107
        }
      ]
    },
    {
      "cell_type": "code",
      "metadata": {
        "id": "1k2q7KTCifqo",
        "colab_type": "code",
        "outputId": "289fee88-0457-4a0b-fb87-cd73003792b1",
        "colab": {
          "base_uri": "https://localhost:8080/",
          "height": 119
        }
      },
      "source": [
        "features=GetFeatures(face)\n",
        "features\n",
        "# 다소 시간이 오래 걸립니다.(20분 이상..)"
      ],
      "execution_count": 0,
      "outputs": [
        {
          "output_type": "execute_result",
          "data": {
            "text/plain": [
              "{'Age Group': ['Young'],\n",
              " 'Expression': ['None'],\n",
              " 'Gender': ['Female'],\n",
              " 'Hair': [['Blond Hair']],\n",
              " 'Other': [['Bangs']],\n",
              " 'Wearing': [['Hat']]}"
            ]
          },
          "metadata": {
            "tags": []
          },
          "execution_count": 108
        }
      ]
    },
    {
      "cell_type": "code",
      "metadata": {
        "id": "P7J99407ilCn",
        "colab_type": "code",
        "colab": {}
      },
      "source": [
        "#검출된 특징들을 boundingbox처리된 이미지와 함께 한 화면에 보여주는 코드이다. ( 추출된 특징만 확인하고자 한다면 skip해도 됨 )\n",
        "\n",
        "from random import randint\n",
        "\n",
        "image=img\n",
        "white = np.zeros([image.shape[0],3*image.shape[1],3],dtype=np.uint8)\n",
        "white.fill(255)\n",
        "image= np.hstack( (image,white) )\n",
        "white = np.zeros([150,image.shape[1],3],dtype=np.uint8)\n",
        "white.fill(255)\n",
        "image= np.vstack( (image,white) )\n",
        "\n",
        "\n",
        "for i in range(len(det)):\n",
        "  x0=img.shape[1]+((i*img.shape[1])//3)\n",
        "  y0=20\n",
        "  \n",
        "  red=randint(0, 255)\n",
        "  green=randint(0, 255)\n",
        "  blue=randint(0, 255)\n",
        "  \n",
        "  minx=det[i].rect.left()-30 if det[i].rect.left()-30 > 0 else 0\n",
        "  maxx=det[i].rect.right()+30 if det[i].rect.right()-30 > 0 else 0\n",
        "  miny=det[i].rect.top()-30 if det[i].rect.top()-30 > 0 else 0\n",
        "  maxy=det[i].rect.bottom()+30 if det[i].rect.bottom()-30 > 0 else 0\n",
        "  cv2.rectangle(image, (minx, miny), (maxx, maxy), (red, green, blue), 2)\n",
        "  label=\"Person \"+str(i+1)\n",
        "  \n",
        "  \n",
        "  cv2.putText(image,label,(minx+10,maxy+20),cv2.FONT_HERSHEY_SIMPLEX, 0.5, (red, green, blue), 2)\n",
        " \n",
        "  cv2.putText(image,label,(x0,y0),cv2.FONT_HERSHEY_SIMPLEX, 0.5, (red, green, blue), 2)\n",
        "  y0=y0+30\n",
        "  \n",
        "  label=\"Gender: \"+features['Gender'][i]\n",
        "  cv2.putText(image,label,(x0,y0),cv2.FONT_HERSHEY_SIMPLEX, 0.4, (red, green, blue), 1)\n",
        "  y0=y0+30\n",
        "  \n",
        "  \n",
        "  label=\"Age Group: \"+features['Age Group'][i]\n",
        "  cv2.putText(image,label,(x0,y0),cv2.FONT_HERSHEY_SIMPLEX, 0.4, (red, green, blue), 1)\n",
        "  y0=y0+30\n",
        "  \n",
        "  label='Expression :'+features['Expression'][i]\n",
        "  cv2.putText(image,label,(x0,y0),cv2.FONT_HERSHEY_SIMPLEX, 0.4, (red, green, blue), 1)\n",
        "  y0=y0+30\n",
        "  \n",
        "  lab_list=features['Hair'][i]\n",
        "  label='Hair :'\n",
        "  \n",
        "  if len(lab_list)==0:\n",
        "    label=label+\"None\"\n",
        "    cv2.putText(image,label,(x0,y0),cv2.FONT_HERSHEY_SIMPLEX, 0.4, (red, green, blue), 1)\n",
        "    y0=y0+20\n",
        "    \n",
        "  else:\n",
        "    cv2.putText(image,label,(x0,y0),cv2.FONT_HERSHEY_SIMPLEX, 0.4, (red, green, blue), 1)\n",
        "    y0=y0+20\n",
        "    for j in range(len(lab_list)):\n",
        "      cv2.putText(image,lab_list[j],(x0,y0),cv2.FONT_HERSHEY_SIMPLEX, 0.4, (red, green, blue), 1)\n",
        "      y0=y0+20\n",
        "      \n",
        "  y0=y0+10\n",
        "  lab_list=features['Wearing'][i]\n",
        "  label='Wearing :'\n",
        "  \n",
        "  \n",
        "  if len(lab_list)==0:\n",
        "    label=label+\"None\"\n",
        "    cv2.putText(image,label,(x0,y0),cv2.FONT_HERSHEY_SIMPLEX, 0.4, (red, green, blue), 1)\n",
        "    y0=y0+20\n",
        "    \n",
        "  else:\n",
        "    cv2.putText(image,label,(x0,y0),cv2.FONT_HERSHEY_SIMPLEX, 0.4, (red, green, blue), 1)\n",
        "    y0=y0+20\n",
        "    for j in range(len(lab_list)):\n",
        "      cv2.putText(image,lab_list[j],(x0,y0),cv2.FONT_HERSHEY_SIMPLEX, 0.4, (red, green, blue), 1)\n",
        "      y0=y0+20\n",
        "  \n",
        "  \n",
        "  y0=y0+10\n",
        "  lab_list=features['Other'][i]\n",
        "  label='Other :'\n",
        "  \n",
        "  \n",
        "  if len(lab_list)==0:\n",
        "    label=label+\"None\"\n",
        "    cv2.putText(image,label,(x0,y0),cv2.FONT_HERSHEY_SIMPLEX, 0.4, (red, green, blue), 1)\n",
        "    y0=y0+20\n",
        "    \n",
        "  else:\n",
        "    cv2.putText(image,label,(x0,y0),cv2.FONT_HERSHEY_SIMPLEX, 0.4, (red, green, blue), 1)\n",
        "    y0=y0+20\n",
        "    for j in range(len(lab_list)):\n",
        "      cv2.putText(image,lab_list[j],(x0,y0),cv2.FONT_HERSHEY_SIMPLEX, 0.4, (red, green, blue), 1)\n",
        "      y0=y0+20"
      ],
      "execution_count": 0,
      "outputs": []
    },
    {
      "cell_type": "code",
      "metadata": {
        "id": "iq028De7isHB",
        "colab_type": "code",
        "outputId": "1d45964d-a542-494e-9b95-c9eb3e6e4c24",
        "colab": {
          "base_uri": "https://localhost:8080/",
          "height": 177
        }
      },
      "source": [
        "plt.imshow(image)\n",
        "plt.xticks([]),plt.yticks([])\n",
        "plt.show()"
      ],
      "execution_count": 0,
      "outputs": [
        {
          "output_type": "display_data",
          "data": {
            "image/png": "[encoded data removed]",
            "text/plain": [
              "<Figure size 432x288 with 1 Axes>"
            ]
          },
          "metadata": {
            "tags": []
          }
        }
      ]
    },
    {
      "cell_type": "code",
      "metadata": {
        "id": "4QpguAPmiuyW",
        "colab_type": "code",
        "colab": {}
      },
      "source": [
        "dlib.save_image(image,'agroup_feat.jpg')"
      ],
      "execution_count": 0,
      "outputs": []
    },
    {
      "cell_type": "code",
      "metadata": {
        "id": "V1WppTLti0Rz",
        "colab_type": "code",
        "colab": {}
      },
      "source": [
        "#결과 화면 이미지로 로컬에 다운\n",
        "from google.colab import files\n",
        "files.download('agroup_feat.jpg')"
      ],
      "execution_count": 0,
      "outputs": []
    }
  ]
}